{
  "nbformat": 4,
  "nbformat_minor": 0,
  "metadata": {
    "colab": {
      "provenance": []
    },
    "kernelspec": {
      "name": "python3",
      "display_name": "Python 3"
    },
    "language_info": {
      "name": "python"
    },
    "gpuClass": "standard"
  },
  "cells": [
    {
      "cell_type": "code",
      "execution_count": 9,
      "metadata": {
        "colab": {
          "base_uri": "https://localhost:8080/"
        },
        "id": "cmAGLTMj_nXa",
        "outputId": "492fa22d-87c0-4352-e497-da461a7d8e96"
      },
      "outputs": [
        {
          "output_type": "stream",
          "name": "stderr",
          "text": [
            "[nltk_data] Downloading package punkt to /root/nltk_data...\n",
            "[nltk_data]   Package punkt is already up-to-date!\n",
            "[nltk_data] Downloading package stopwords to /root/nltk_data...\n",
            "[nltk_data]   Package stopwords is already up-to-date!\n"
          ]
        },
        {
          "output_type": "execute_result",
          "data": {
            "text/plain": [
              "True"
            ]
          },
          "metadata": {},
          "execution_count": 9
        }
      ],
      "source": [
        "# import necessary libraries\n",
        "import imaplib\n",
        "import email\n",
        "from datetime import datetime, timedelta\n",
        "import pandas as pd\n",
        "import yaml\n",
        "import re\n",
        "import nltk\n",
        "from nltk.tokenize import word_tokenize\n",
        "from nltk.corpus import stopwords\n",
        "\n",
        "nltk.download('punkt')\n",
        "nltk.download('stopwords')"
      ]
    },
    {
      "cell_type": "code",
      "source": [
        "def get_imap_connection(cred_file):\n",
        "    # load credentials from YAML file\n",
        "    with open(cred_file, 'r') as f:\n",
        "        credentials = yaml.safe_load(f)\n",
        "\n",
        "    # connect to Gmail's IMAP server\n",
        "    imap_host = 'imap.gmail.com'\n",
        "    imap_user = credentials['username']\n",
        "    imap_pass = credentials['password']\n",
        "    imap = imaplib.IMAP4_SSL(imap_host)\n",
        "\n",
        "    # login to your account\n",
        "    imap.login(imap_user, imap_pass)\n",
        "\n",
        "    return imap\n"
      ],
      "metadata": {
        "id": "9X5z1EtInSrv"
      },
      "execution_count": 10,
      "outputs": []
    },
    {
      "cell_type": "code",
      "source": [
        "def get_date_range(start_date, end_date):\n",
        "    start_date = datetime.strptime(start_date, '%d-%b-%Y').date()\n",
        "    end_date = datetime.strptime(end_date, '%d-%b-%Y').date()\n",
        "    end_date += timedelta(days=1)  # to include emails from the end date\n",
        "    date_cutoff = start_date.strftime('%d-%b-%Y')\n",
        "    return date_cutoff, end_date"
      ],
      "metadata": {
        "id": "dk1V8baWnY1B"
      },
      "execution_count": 11,
      "outputs": []
    },
    {
      "cell_type": "code",
      "source": [
        "def search_emails(imap, date_cutoff):\n",
        "    # select the mailbox you want to scrape\n",
        "    mailbox = 'INBOX'\n",
        "    imap.select(mailbox)\n",
        "\n",
        "    # search for all emails in the selected mailbox within the specified date range\n",
        "    search_criteria = f'(SINCE \"{date_cutoff}\")'\n",
        "    status, response = imap.search(None, search_criteria)\n",
        "\n",
        "    return response[0].split()"
      ],
      "metadata": {
        "id": "G8jUVvoindGl"
      },
      "execution_count": 12,
      "outputs": []
    },
    {
      "cell_type": "code",
      "source": [
        "def extract_email_details(imap, email_id):\n",
        "    # fetch the email by its ID\n",
        "    status, response = imap.fetch(email_id, '(RFC822)')\n",
        "\n",
        "    # extract the email content from the response\n",
        "    email_content = response[0][1]\n",
        "    email_message = email.message_from_bytes(email_content)\n",
        "\n",
        "    # extract relevant email details\n",
        "    email_from = email_message['From']\n",
        "    email_to = email_message['To']\n",
        "    email_subject = email_message['Subject']\n",
        "    email_importance = email_message['Importance']\n",
        "    email_body = ''\n",
        "\n",
        "    # if the email has a plain text or HTML body, extract it\n",
        "    for part in email_message.walk():\n",
        "        if part.get_content_type() == 'text/plain':\n",
        "            email_body = part.get_payload(decode=True).decode('iso-8859-1')\n",
        "        elif part.get_content_type() == 'text/html':\n",
        "            email_body = part.get_payload(decode=True).decode('iso-8859-1')\n",
        "\n",
        "    return email_from, email_to, email_subject, email_importance, email_body"
      ],
      "metadata": {
        "id": "9wQCbaHdnp6t"
      },
      "execution_count": 13,
      "outputs": []
    },
    {
      "cell_type": "code",
      "source": [
        "def extract_keywords(text):\n",
        "    # tokenize the text into words\n",
        "    tokens = word_tokenize(text.lower())\n",
        "\n",
        "    # remove stop words and punctuation\n",
        "    stop_words = set(stopwords.words('english'))\n",
        "    tokens = [token for token in tokens if token.isalnum() and token not in stop_words]\n",
        "\n",
        "    # count the frequency of each word\n",
        "    freq = nltk.FreqDist(tokens)\n",
        "\n",
        "    # extract the most common words as keywords\n",
        "    keywords = list(freq.keys())[:5]\n",
        "\n",
        "    return keywords"
      ],
      "metadata": {
        "id": "o0ap8mp6buak"
      },
      "execution_count": 14,
      "outputs": []
    },
    {
      "cell_type": "code",
      "source": [
        "def scrape_emails(start_date, end_date, cred_file):\n",
        "    imap = get_imap_connection(cred_file)\n",
        "    date_cutoff, end_date = get_date_range(start_date, end_date)\n",
        "    email_ids = search_emails(imap, date_cutoff)\n",
        "\n",
        "    # create an empty DataFrame to store the extracted email details\n",
        "    emails_df = pd.DataFrame(columns=['From', 'To', 'Subject', 'Importance', 'Body', 'Thread_ID'])\n",
        "\n",
        "    # iterate over the list of email IDs returned by the search query\n",
        "    for email_id in email_ids:\n",
        "        # extract email details\n",
        "        email_from, email_to, email_subject, email_importance, email_body = extract_email_details(imap, email_id)\n",
        "\n",
        "        # extract thread ID from subject (if present)\n",
        "        thread_id = None\n",
        "        if isinstance(email_subject, str):\n",
        "            match = re.search('\\[([\\w-]+)\\]', email_subject)\n",
        "            if match:\n",
        "                thread_id = match.group(1)\n",
        "\n",
        "        # extract keywords from email body\n",
        "        keywords = extract_keywords(email_body)\n",
        "\n",
        "        # append the extracted email details to the DataFrame\n",
        "        emails_df = emails_df.append({'From': email_from,\n",
        "                                      'To': email_to,\n",
        "                                      'Subject': email_subject,\n",
        "                                      'Importance': email_importance,\n",
        "                                      'Body': email_body,\n",
        "                                      'Thread_ID': thread_id,\n",
        "                                      'Keywords': keywords}, ignore_index=True)\n",
        "\n",
        "    # close the mailbox and logout of your account\n",
        "    imap.close()\n",
        "    imap.logout()\n",
        "\n",
        "    return emails_df"
      ],
      "metadata": {
        "id": "IyV3iKnWauwy"
      },
      "execution_count": 15,
      "outputs": []
    },
    {
      "cell_type": "code",
      "source": [
        "# set the start and end dates of the range you want to scrape\n",
        "start_date = '01-Jan-2018'\n",
        "end_date = '31-Dec-2022'\n",
        "\n",
        "# specify the path to your YAML credentials file\n",
        "cred_file = '/content/credentials.yaml'\n",
        "\n",
        "# scrape emails within the specified date range and store the results in a DataFrame\n",
        "emails_df = scrape_emails(start_date, end_date, cred_file)\n",
        "\n",
        "# save the DataFrame as a CSV file\n",
        "emails_df.to_csv('emails.csv', index=False)\n"
      ],
      "metadata": {
        "id": "pZV7tL-mqYId"
      },
      "execution_count": null,
      "outputs": []
    }
  ]
}